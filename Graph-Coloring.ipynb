{
 "cells": [
  {
   "cell_type": "markdown",
   "metadata": {},
   "source": [
    "# Graph Coloring Analysis Project"
   ]
  },
  {
   "cell_type": "markdown",
   "metadata": {},
   "source": [
    "This project looks at implementing an algorithm in multiple ways to solve a problem, analyzing the\n",
    "algorithms’ implementations for running time, and testing and your implementations to show they\n",
    "match your analysis. The project also looks at testing to determine how well the multiple\n",
    "implementations solve the problem.<br/>\n",
    "The particular problem for the project is scheduling via graph coloring. For the first part of the project,\n",
    "different conflict graphs which can represent real world problems will be created and saved in files. For\n",
    "the second part of the problem, various coloring orders will be implemented and analyzed for runtime\n",
    "efficiency and coloring efficiency. These efficiencies are intimately related to the data structures used\n",
    "for both the input graph data and the intermediate data necessary for the ordering and coloring\n",
    "algorithms."
   ]
  },
  {
   "cell_type": "markdown",
   "metadata": {},
   "source": [
    "## Part 1"
   ]
  },
  {
   "cell_type": "markdown",
   "metadata": {},
   "source": [
    "### Purpose"
   ]
  },
  {
   "cell_type": "markdown",
   "metadata": {},
   "source": [
    "Part 1 of the project is used to create different conflict graphs. Conflict graphs represent realworld problems. For example, one may be thought of as a set of vertices representing courses that students may take. An edge is present between two vertices (courses) in the graph if a student is taking both courses. This edge indicates they may not be scheduled at the same time.<br/>\n",
    "Once the graph is colored, the color of each vertex represents its timeslot and the total number of colors would represent the total number of required timeslots for that coloring.<br/>\n",
    "The vertices which have a conflict in this project will be determined based on graph types and a random number generator with different distributions."
   ]
  },
  {
   "cell_type": "markdown",
   "metadata": {},
   "source": [
    "### Input"
   ]
  },
  {
   "cell_type": "markdown",
   "metadata": {},
   "source": [
    "* V = Number of vertices. (MAX = 10,000)\n",
    "* E = Number of conflicts between pairs of vertices for random graphs. (MAX = 2,000,000)\n",
    "* G = COMPLETE | CYCLE | RANDOM (with DIST below)\n",
    "* DIST = UNIFORM | SKEWED | YOURS"
   ]
  },
  {
   "cell_type": "markdown",
   "metadata": {},
   "source": [
    "### Output"
   ]
  },
  {
   "cell_type": "markdown",
   "metadata": {},
   "source": [
    "* E[] = adjacency list of distinct course conflicts (length = 2M)\n",
    "* P[] = Pointer for each course I, 1 <= I <= N denoting the starting point in E[] of the list of\n",
    "courses in conflict with course I. \n",
    "  * That is, the conflicts for course I are indicated in locations E[P[I]], E[P[I]+1], …, E[P[I+1]-1]."
   ]
  },
  {
   "cell_type": "markdown",
   "metadata": {},
   "source": [
    "### Procedure"
   ]
  },
  {
   "cell_type": "markdown",
   "metadata": {},
   "source": [
    "The vertices for conflicts shall be chosen using a pseudo random number generator according to one of the specified distributions. These distributions are uniform, skewed, and one other of your choosing.<br/>\n",
    "The uniform distribution assumes each vertex is equally likely to be chosen for a conflict. The skewed distribution assumes lower numbered vertices are linearly more likely than higher numbered vertices.<br/>\n",
    "Graphs of these distributions are shown below. <br/><br/>\n",
    "![Graph1](Probability-of-Choosing-Graphs.png)<br/>\n",
    "**You may use a built-in uniform distribution pseudo-random number generator, but must base the\n",
    "other distributions on the output of this built-in generator.**"
   ]
  },
  {
   "cell_type": "markdown",
   "metadata": {},
   "source": [
    "## Part 2"
   ]
  },
  {
   "cell_type": "markdown",
   "metadata": {},
   "source": [
    "### Input: A file like the output in Part 1"
   ]
  },
  {
   "cell_type": "markdown",
   "metadata": {},
   "source": [
    "* P[] = Pointer for each course I, 1 <= I <= N denoting the starting point in E[] of the list of\n",
    "courses in conflict with course I.\n",
    "  * That is, the conflicts for course I are indicated in locations E[P[I]], E[P[I]+1], …, E[P[I+1]-1].\n",
    "* E[] = adjacency list of distinct course conflicts (length = 2M)."
   ]
  },
  {
   "cell_type": "markdown",
   "metadata": {},
   "source": [
    "### Output"
   ]
  },
  {
   "cell_type": "markdown",
   "metadata": {},
   "source": [
    "* For each vertex the color, original degree, (and degree when deleted for the smallest last ordering). These should be printed in the order colored.\n",
    "* Total number of colors used, the average original degree, and the maximum “degree when deleted” value for the smallest last ordering, and the size of the terminal clique for the smallest last ordering.\n",
    "* Any other summary data you wish to include.\n",
    "* An output file of the format where each line is VERTEX_NUMBER, COLOR_NUMBER."
   ]
  },
  {
   "cell_type": "markdown",
   "metadata": {},
   "source": [
    "### Procedure"
   ]
  },
  {
   "cell_type": "markdown",
   "metadata": {},
   "source": [
    "CS-7350 students are to use six different methods for ordering the vertices in the graph. One method all\n",
    "students are to use is the smallest last ordering given below, another is the smallest original degree last\n",
    "and the final one for all students is a uniform random ordering. The other orderings are of your own\n",
    "choosing. Then you are to assign the minimum color to each vertex in the order determined by each\n",
    "ordering so that it doesn’t conflict with the other vertices already colored. You will then report on the\n",
    "following criteria for the different ordering methodologies:\n",
    "* Asymptotic running time for Smallest Last Ordering and Coloring\n",
    "* Total number of colors needed for each ordering for various graph types\n",
    "* Report any other interesting metric for each ordering"
   ]
  },
  {
   "cell_type": "markdown",
   "metadata": {},
   "source": [
    "### Smallest Vertex Ordering"
   ]
  },
  {
   "cell_type": "markdown",
   "metadata": {},
   "source": [
    "The following format for the values of variables in various fields of the data node for each vertex may be used to save storage space. You may also split fields into different ones to avoid overloading a field for code readability and maintenance.<br/><br/>\n",
    "![Table Example](Table-Example.png)<br/>\n",
    "1. Establish the pointers to the lists of vertices of degree j, 0 <= j <= N-1, and any other pointers\n",
    "or variables needed.\n",
    "2. Create the code to iteratively delete a vertex of smallest degree, updating the third and\n",
    "fourth fields of each data node to relate to the remaining graph, adding the vertex deleted\n",
    "to the ordered list of vertices deleted.\n",
    "3. After all vertices have been deleted, scan and assign colors (session periods) to each vertex\n",
    "in an order opposite to the order deleted, assigning for a “color” the smallest non-negative\n",
    "integer not previously assigned to any adjacent vertex. The output associated with each\n",
    "vertex may be printed as the coloring is assigned.\n",
    "4. Print any further output and summary information for the schedule."
   ]
  },
  {
   "cell_type": "markdown",
   "metadata": {},
   "source": [
    "For additional output with METHOD 1 you should include\n",
    "* A graph indicating the degree when deleted on the vertical axes and the order colored on the x-axis.\n",
    "* The maximum degree when deleted.\n",
    "* The size of the terminal clique.\n",
    "* Any other summary data you wish to include."
   ]
  },
  {
   "cell_type": "markdown",
   "metadata": {},
   "source": [
    "| Vertex 1    | Field 1     | Field 2     | Field 3     | Field 4     |\n",
    "| ----------- | ----------- | ----------- | ----------- | ----------- |\n",
    "| Header      | Title       | Syntax      | Description | ds          |\n",
    "| Paragraph   | Text        | Syntax      | Description | sdaa        |"
   ]
  },
  {
   "cell_type": "markdown",
   "metadata": {},
   "source": [
    "### Smallest Original Degree Last"
   ]
  },
  {
   "cell_type": "markdown",
   "metadata": {},
   "source": [
    "The Smallest Original Degree Last method is a subset of the smallest last ordering. You should\n",
    "determine the vertices to color based on their original degree, but not remove them from the\n",
    "graph as you do it. This should run in THETA(V+E)."
   ]
  },
  {
   "cell_type": "markdown",
   "metadata": {},
   "source": [
    "### Testing"
   ]
  },
  {
   "cell_type": "markdown",
   "metadata": {},
   "source": [
    "You should test your program in such a fashion to convince me it operates as expected. Test input files\n",
    "will also be provided."
   ]
  }
 ],
 "metadata": {
  "interpreter": {
   "hash": "ce41d2c9079f2c783da2c5a9243470309928341d0f7f9360b413f846a0d7760d"
  },
  "kernelspec": {
   "display_name": "Python 3.10.4 64-bit",
   "language": "python",
   "name": "python3"
  },
  "language_info": {
   "name": "python",
   "version": "3.10.4"
  },
  "orig_nbformat": 4
 },
 "nbformat": 4,
 "nbformat_minor": 2
}
